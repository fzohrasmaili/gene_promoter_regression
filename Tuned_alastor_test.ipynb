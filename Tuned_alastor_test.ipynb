{
 "cells": [
  {
   "cell_type": "code",
   "execution_count": 51,
   "metadata": {},
   "outputs": [],
   "source": [
    "import torch\n",
    "import torch.nn as nn\n",
    "import torch.nn.functional as F\n",
    "import torch.optim as optim\n",
    "from torch.utils.data import DataLoader, ConcatDataset\n",
    "from sklearn.model_selection import KFold\n",
    "from sklearn.metrics import roc_auc_score\n",
    "from random import randint\n",
    "import numpy as np\n",
    "import time\n",
    "import os\n",
    "import sys\n",
    "import numpy\n",
    "import sklearn\n",
    "import sklearn.metrics\n",
    "import matplotlib.pyplot as plt\n",
    "from sklearn.model_selection import train_test_split\n",
    "from models import Alastor\n",
    "from functions import *"
   ]
  },
  {
   "attachments": {},
   "cell_type": "markdown",
   "metadata": {},
   "source": [
    "Setting parameters"
   ]
  },
  {
   "cell_type": "code",
   "execution_count": 52,
   "metadata": {},
   "outputs": [],
   "source": [
    "num_epochs = 600\n",
    "seq_length = 2000\n",
    "learning_rate = 0.0002\n",
    "n_seq = 5000\n",
    "output_sz=1\n",
    "LV = 1"
   ]
  },
  {
   "attachments": {},
   "cell_type": "markdown",
   "metadata": {},
   "source": [
    "Load and process data"
   ]
  },
  {
   "cell_type": "code",
   "execution_count": 53,
   "metadata": {},
   "outputs": [
    {
     "name": "stdout",
     "output_type": "stream",
     "text": [
      "torch.Size([5000, 4, 2000])\n",
      "torch.Size([5000, 1])\n"
     ]
    }
   ],
   "source": [
    "data_X = file_to_list(f\"pbmc1_data/7000_data_X\").float()\n",
    "data_size = int(data_X.size()[0])\n",
    "data_X_new= torch.transpose(data_X,1,2)\n",
    "data_X_CNN = data_X_new.view(data_size,4,seq_length)\n",
    "data_Y = torch.from_numpy(numpy.loadtxt(f\"pbmc1_data/7000_data_Y\")[:,LV]).float()\n",
    "data_X0 = data_X_CNN[0:n_seq]\n",
    "data_Y0 = data_Y[0:n_seq].unsqueeze(dim=1)\n",
    "print (data_X0.size())\n",
    "print (data_Y0.size())"
   ]
  },
  {
   "attachments": {},
   "cell_type": "markdown",
   "metadata": {},
   "source": [
    "Create network "
   ]
  },
  {
   "cell_type": "code",
   "execution_count": 54,
   "metadata": {},
   "outputs": [],
   "source": [
    "class Alastor (nn.Module):\n",
    "    def __init__(self, n_channel=4, max_seq_len=2000, num_targets=4+1,\n",
    "                conv1kc=32, conv1ks=15, conv1st=1, conv1pd=7, pool1ks=8, pdrop1=0.5, #conv_block_1 parameters\n",
    "                conv2kc=48, conv2ks=3, conv2st=1, conv2pd=3, pool2ks=4 , pdrop2=0.5, #conv_block_2 parameters\n",
    "                conv3kc=32, conv3ks=3, conv3st=1, conv3pd=3, pool3ks=4, pdrop3=0.4, #conv_block_3 parameters\n",
    "                convdc=7, convd1kc=32 , convd1ks=3, convd2kc=96 , convd2ks=1, pdropd=0.3,\n",
    "                conv4kc=64, conv4ks=1, conv4st=1, conv4pd=0, pdrop4=0.5):\n",
    "        super(Alastor, self).__init__()\n",
    "\n",
    "        self.convdc = convdc\n",
    "        self.device = 'cpu'\n",
    "        self.max_seq_len = max_seq_len\n",
    "        self.num_targets = num_targets\n",
    "\n",
    "        conv1pd = int((conv1ks - 1) / 2)\n",
    "        conv2pd = int((conv2ks - 1) / 2)\n",
    "        conv3pd = int((conv3ks - 1) / 2)\n",
    "\n",
    "        convd2kc = int(conv3kc)\n",
    "        \n",
    "        self.conv_block_1 = nn.Sequential(\n",
    "            #nn.GELU(),\n",
    "            nn.Conv1d(n_channel, conv1kc, kernel_size=conv1ks, stride=conv1st, padding=conv1pd, bias=False),\n",
    "            nn.BatchNorm1d(conv1kc, momentum=0.9, affine=True),\n",
    "            nn.MaxPool1d(kernel_size=pool1ks),\n",
    "            nn.Dropout(p=pdrop1))\n",
    "                \n",
    "        self.conv_block_2 = nn.Sequential(\n",
    "            #nn.GELU(),\n",
    "            nn.Conv1d(conv1kc, conv2kc, kernel_size=conv2ks, stride=conv2st, padding=conv2pd, bias=False),\n",
    "            nn.BatchNorm1d(conv2kc, momentum=0.9, affine=True),\n",
    "            nn.MaxPool1d(kernel_size=pool2ks),\n",
    "            nn.Dropout(p=pdrop2))\n",
    "        \n",
    "        self.conv_block_3 = nn.Sequential(\n",
    "            #nn.GELU(),\n",
    "            nn.Conv1d(conv2kc, conv3kc, kernel_size=conv3ks, stride=conv3st, padding=conv3pd, bias=False),\n",
    "            nn.BatchNorm1d(conv3kc, momentum=0.9, affine=True),\n",
    "            nn.MaxPool1d(kernel_size=pool3ks),\n",
    "            nn.Dropout(p=pdrop3))\n",
    "        \n",
    "        self.dilations = nn.ModuleList()\n",
    "        \n",
    "        for i in range(convdc):\n",
    "            padding = 2**(i)\n",
    "            self.dilations.append(nn.Sequential(\n",
    "                #nn.GELU(),\n",
    "                nn.Conv1d(conv3kc, convd1kc, kernel_size=convd1ks, padding=padding, dilation=2**i, bias=False),\n",
    "                nn.BatchNorm1d(convd1kc, momentum=0.9, affine=True), \n",
    "                #nn.GELU(),\n",
    "                nn.Conv1d(convd1kc, convd2kc, kernel_size=convd2ks, padding=0, bias=False),\n",
    "                nn.BatchNorm1d(convd2kc, momentum=0.9, affine=True), \n",
    "                nn.Dropout(p=pdropd)))\n",
    "            \n",
    "        self.conv_block_4 = nn.Sequential(\n",
    "            #nn.GELU(),\n",
    "            nn.Conv1d(convd2kc, conv4kc, kernel_size=conv4ks, stride=conv4st, padding=conv4pd, bias=False),\n",
    "            nn.BatchNorm1d(conv4kc, momentum=0.9, affine=True), \n",
    "            nn.Dropout(p=pdrop4)) \n",
    "        \n",
    "        self.conv_block_5 = nn.Sequential(\n",
    "            #nn.GELU(),\n",
    "            nn.Linear(conv4kc, 1, bias=True),\n",
    "            nn.Flatten())\n",
    "        \n",
    "        self.mu_block = nn.Sequential(\n",
    "            nn.Linear(int(self.max_seq_len / (2**7)), 256),\n",
    "            nn.BatchNorm1d(256),\n",
    "            nn.Linear(256, 1)\n",
    "        )\n",
    "        \n",
    "    def forward (self, seq):\n",
    "        \n",
    "        out1 = self.conv_block_1(seq)\n",
    "        out1 = self.conv_block_2(out1)\n",
    "        out1 = self.conv_block_3(out1)\n",
    "        current = out1\n",
    "        for i in range(self.convdc):\n",
    "            residual = self.dilations[i](current)\n",
    "            current = current.add(residual)\n",
    "        \n",
    "        out = self.conv_block_4(current)\n",
    "        out = out.transpose(1, 2)\n",
    "        out = self.conv_block_5(out)\n",
    "        out = self.mu_block (out)\n",
    "        return (out)\n",
    "        \n",
    "    def compile (self, device = 'cpu'):\n",
    "        self.to(device)\n",
    "        self.device = device"
   ]
  },
  {
   "attachments": {},
   "cell_type": "markdown",
   "metadata": {},
   "source": [
    "Create network "
   ]
  },
  {
   "cell_type": "code",
   "execution_count": 55,
   "metadata": {},
   "outputs": [],
   "source": [
    "\n",
    "alastor = Alastor()\n",
    "model =alastor\n",
    "criterion = nn.MSELoss()\n",
    "#optimizer = torch.optim.SGD(model.parameters(),lr=0.0228662, weight_decay=1e-6 )\n",
    "optimizer = torch.optim.Adam(model.parameters(),lr=0.02286 )\n",
    "lr_sched = optim.lr_scheduler.ReduceLROnPlateau(optimizer,\n",
    "            mode='min',\n",
    "            factor=0.1,\n",
    "            patience=5,\n",
    "            threshold=0.0001,\n",
    "            threshold_mode='rel',\n",
    "            cooldown=0,\n",
    "            min_lr=0,\n",
    "            eps=1e-08)\n"
   ]
  },
  {
   "attachments": {},
   "cell_type": "markdown",
   "metadata": {},
   "source": [
    "Split data "
   ]
  },
  {
   "cell_type": "code",
   "execution_count": 56,
   "metadata": {},
   "outputs": [],
   "source": [
    "train_data1, test_data, train_label1, test_label = train_test_split(data_X0, data_Y0, test_size=0.1, random_state=42)\n",
    "train_data, valid_data, train_label, valid_label = train_test_split(train_data1, train_label1, test_size=0.4, random_state=42)\n",
    "val_train_data, rest_data, val_train_label, rest_label = train_test_split(train_data, train_label, test_size=0.3, random_state=42)\n",
    "# Final_Test_data = test_data + valid_data + val_train_data\n",
    "# Final_Test_Label = test_label + valid_label + val_train_label"
   ]
  },
  {
   "attachments": {},
   "cell_type": "markdown",
   "metadata": {},
   "source": [
    "Train model"
   ]
  },
  {
   "cell_type": "code",
   "execution_count": 57,
   "metadata": {},
   "outputs": [
    {
     "name": "stdout",
     "output_type": "stream",
     "text": [
      "\n",
      "\n",
      " Epoch 0\n",
      "Training: \t loss=281.42278618282745, \t rmse=1.5843500828545445,  \t RSE=1.7001884659131368, \n",
      " Validation: \t RMSE=1.63167214613174 \n",
      "\n",
      "\n",
      " Epoch 5\n",
      "Training: \t loss=217.125901778539, \t rmse=1.3728860708956285,  \t RSE=1.0591170584713971, \n",
      " Validation: \t RMSE=1.598810203558053 \n",
      "\n",
      "\n",
      " Epoch 10\n",
      "Training: \t loss=215.49274267973723, \t rmse=1.367876450918757,  \t RSE=1.0508442022182323, \n",
      " Validation: \t RMSE=1.5933826247508889 \n",
      "\n",
      "\n",
      " Epoch 15\n",
      "Training: \t loss=215.11889534967915, \t rmse=1.364549945987958,  \t RSE=1.0424364809636717, \n",
      " Validation: \t RMSE=1.596177888464671 \n",
      "\n",
      "\n",
      " Epoch 20\n",
      "Training: \t loss=214.4150266713566, \t rmse=1.3645757295115606,  \t RSE=1.0464743468496533, \n",
      " Validation: \t RMSE=1.597101987468889 \n",
      "\n",
      "\n",
      " Epoch 25\n",
      "Training: \t loss=214.1913277021161, \t rmse=1.3624981941840122,  \t RSE=1.040074606736501, \n",
      " Validation: \t RMSE=1.5947552670793852 \n",
      "\n",
      "\n",
      " Epoch 30\n",
      "Training: \t loss=215.03109009177598, \t rmse=1.3655344359193893,  \t RSE=1.0465209148548267, \n",
      " Validation: \t RMSE=1.598955293169973 \n",
      "\n",
      "\n",
      " Epoch 35\n",
      "Training: \t loss=214.47797858052783, \t rmse=1.3643572962108546,  \t RSE=1.0466444668946442, \n",
      " Validation: \t RMSE=1.5927597410173295 \n",
      "\n",
      "\n",
      " Epoch 40\n",
      "Training: \t loss=212.63938136674741, \t rmse=1.3594456469779226,  \t RSE=1.0393433835771348, \n",
      " Validation: \t RMSE=1.5983413682297443 \n",
      "\n",
      "\n",
      " Epoch 45\n",
      "Training: \t loss=214.64076969358655, \t rmse=1.3644793727460849,  \t RSE=1.045324722925822, \n",
      " Validation: \t RMSE=1.6017788624575173 \n",
      "\n",
      "\n",
      " Epoch 50\n",
      "Training: \t loss=213.98106388471746, \t rmse=1.3626800953883242,  \t RSE=1.0425789440119708, \n",
      " Validation: \t RMSE=1.5961070115728355 \n",
      "\n",
      "\n",
      " Epoch 55\n",
      "Training: \t loss=214.39288482621865, \t rmse=1.3628036404047852,  \t RSE=1.0405370010270012, \n",
      " Validation: \t RMSE=1.5967970498724768 \n",
      "\n",
      "\n",
      " Epoch 60\n",
      "Training: \t loss=214.5354699646985, \t rmse=1.3643100652172877,  \t RSE=1.0453656673431397, \n",
      " Validation: \t RMSE=1.5937191081325564 \n",
      "\n",
      "\n",
      " Epoch 65\n",
      "Training: \t loss=214.22919639834652, \t rmse=1.3625757333716946,  \t RSE=1.0404405801384538, \n",
      " Validation: \t RMSE=1.5963676497702628 \n",
      "\n",
      "\n",
      " Epoch 70\n",
      "Training: \t loss=213.23158865725551, \t rmse=1.3603378391688907,  \t RSE=1.0387409497190405, \n",
      " Validation: \t RMSE=1.5974090310285274 \n",
      "\n",
      "\n",
      " Epoch 75\n",
      "Training: \t loss=214.8682885037528, \t rmse=1.3643189812000494,  \t RSE=1.0423873649703133, \n",
      " Validation: \t RMSE=1.5929595632695113 \n",
      "\n",
      "\n",
      " Epoch 80\n",
      "Training: \t loss=214.11198524413285, \t rmse=1.3636985394594456,  \t RSE=1.0454091760847304, \n",
      " Validation: \t RMSE=1.597905445018028 \n",
      "\n",
      "\n",
      " Epoch 85\n",
      "Training: \t loss=214.5742995871438, \t rmse=1.3635483767873153,  \t RSE=1.0424186949376706, \n",
      " Validation: \t RMSE=1.591961324423264 \n",
      "\n",
      "\n",
      " Epoch 90\n",
      "Training: \t loss=214.59481347490242, \t rmse=1.3659428950839083,  \t RSE=1.049993998033029, \n",
      " Validation: \t RMSE=1.5965654524788742 \n",
      "\n",
      "\n",
      " Epoch 95\n",
      "Training: \t loss=214.30324854674163, \t rmse=1.3644253892941876,  \t RSE=1.0457064346030907, \n",
      " Validation: \t RMSE=1.5976383422743328 \n",
      "\n",
      "\n",
      " Epoch 100\n",
      "Training: \t loss=214.6826906557436, \t rmse=1.364452608279229,  \t RSE=1.0438704508322256, \n",
      " Validation: \t RMSE=1.5953966497781331 \n",
      "\n",
      "\n",
      " Epoch 105\n",
      "Training: \t loss=215.26885316327764, \t rmse=1.3673958963985353,  \t RSE=1.0503339771871214, \n",
      " Validation: \t RMSE=1.5993184068393254 \n",
      "\n",
      "\n",
      " Epoch 110\n",
      "Training: \t loss=215.32342670140446, \t rmse=1.3663550213538591,  \t RSE=1.0474877728356256, \n",
      " Validation: \t RMSE=1.5954416310564012 \n",
      "\n",
      "\n",
      " Epoch 115\n",
      "Training: \t loss=213.75771789639083, \t rmse=1.3609699926974659,  \t RSE=1.0394288464828774, \n",
      " Validation: \t RMSE=1.5963442015427607 \n",
      "\n",
      "\n",
      " Epoch 120\n",
      "Training: \t loss=213.76482082737817, \t rmse=1.3619537874947263,  \t RSE=1.0408975729235896, \n",
      " Validation: \t RMSE=1.59603254636884 \n",
      "\n",
      "\n",
      " Epoch 125\n",
      "Training: \t loss=214.68189193142786, \t rmse=1.3638117911196113,  \t RSE=1.0418175088034736, \n",
      " Validation: \t RMSE=1.5952566916094204 \n",
      "\n",
      "\n",
      " Epoch 130\n",
      "Training: \t loss=214.63673728483695, \t rmse=1.3643085253548892,  \t RSE=1.0447805047035217, \n",
      " Validation: \t RMSE=1.595445516422928 \n",
      "\n",
      "\n",
      " Epoch 135\n",
      "Training: \t loss=214.32923776132088, \t rmse=1.3655191874663877,  \t RSE=1.049121356010437, \n",
      " Validation: \t RMSE=1.6018459162339769 \n",
      "\n",
      "\n",
      " Epoch 140\n",
      "Training: \t loss=214.77335434269023, \t rmse=1.3650068486898552,  \t RSE=1.0469476770471644, \n",
      " Validation: \t RMSE=1.5993482961210475 \n",
      "\n",
      "\n",
      " Epoch 145\n",
      "Training: \t loss=214.27791468523165, \t rmse=1.362348079928228,  \t RSE=1.0381661697670266, \n",
      " Validation: \t RMSE=1.5944459928814454 \n",
      "\n",
      "\n",
      " Epoch 150\n",
      "Training: \t loss=214.12566066892057, \t rmse=1.3634978986260957,  \t RSE=1.044016592590897, \n",
      " Validation: \t RMSE=1.5924515015839102 \n",
      "\n",
      "\n",
      " Epoch 155\n",
      "Training: \t loss=213.98345478154997, \t rmse=1.3617314274913905,  \t RSE=1.0381574290770073, \n",
      " Validation: \t RMSE=1.5980897795578388 \n",
      "\n",
      "\n",
      " Epoch 160\n",
      "Training: \t loss=213.80943231008672, \t rmse=1.3613400495448835,  \t RSE=1.0395323735696298, \n",
      " Validation: \t RMSE=1.594516420272056 \n",
      "\n",
      "\n",
      " Epoch 165\n",
      "Training: \t loss=215.53266334312931, \t rmse=1.3676327676024216,  \t RSE=1.0498417841063605, \n",
      " Validation: \t RMSE=1.5946040389676426 \n",
      "\n",
      "\n",
      " Epoch 170\n",
      "Training: \t loss=214.77302792999478, \t rmse=1.3651385751838168,  \t RSE=1.0455592800069737, \n",
      " Validation: \t RMSE=1.5944740296357482 \n",
      "\n",
      "\n",
      " Epoch 175\n",
      "Training: \t loss=213.9865246304759, \t rmse=1.362212531053616,  \t RSE=1.0413887134304753, \n",
      " Validation: \t RMSE=1.5955405555192386 \n",
      "\n",
      "\n",
      " Epoch 180\n",
      "Training: \t loss=214.34606915270842, \t rmse=1.362861068362584,  \t RSE=1.0398213099550317, \n",
      " Validation: \t RMSE=1.5988599351392865 \n",
      "\n",
      "\n",
      " Epoch 185\n",
      "Training: \t loss=213.61084940256893, \t rmse=1.3617756604513143,  \t RSE=1.0416269885169136, \n",
      " Validation: \t RMSE=1.5968033209015098 \n",
      "\n",
      "\n",
      " Epoch 190\n",
      "Training: \t loss=213.88707773553, \t rmse=1.3636764255107632,  \t RSE=1.0462525169054666, \n",
      " Validation: \t RMSE=1.5989997270260614 \n",
      "\n",
      "\n",
      " Epoch 195\n",
      "Training: \t loss=214.78629231452945, \t rmse=1.364796568156469,  \t RSE=1.0455015125098053, \n",
      " Validation: \t RMSE=1.5967556903260507 \n",
      "\n",
      "\n",
      " Epoch 200\n",
      "Training: \t loss=213.45035839963842, \t rmse=1.3605931766130226,  \t RSE=1.0388636465425845, \n",
      " Validation: \t RMSE=1.5948059473409524 \n",
      "\n",
      "\n",
      " Epoch 205\n",
      "Training: \t loss=213.6645992817702, \t rmse=1.3606581952215147,  \t RSE=1.0377890944480896, \n",
      " Validation: \t RMSE=1.5949395919888332 \n",
      "\n",
      "\n",
      " Epoch 210\n",
      "Training: \t loss=214.05578697169267, \t rmse=1.3623221802870178,  \t RSE=1.0415218176665129, \n",
      " Validation: \t RMSE=1.5960885636464317 \n",
      "\n",
      "\n",
      " Epoch 215\n",
      "Training: \t loss=214.63249432819862, \t rmse=1.3649140750673776,  \t RSE=1.0455961986824318, \n",
      " Validation: \t RMSE=1.5966801354643867 \n",
      "\n",
      "\n",
      " Epoch 220\n",
      "Training: \t loss=214.2337401266451, \t rmse=1.3643494033427732,  \t RSE=1.0474372444329438, \n",
      " Validation: \t RMSE=1.5989376236592305 \n",
      "\n",
      "\n",
      " Epoch 225\n",
      "Training: \t loss=214.39557036867848, \t rmse=1.3647530845199294,  \t RSE=1.048349839228171, \n",
      " Validation: \t RMSE=1.5990302932236307 \n",
      "\n",
      "\n",
      " Epoch 230\n",
      "Training: \t loss=214.14389158840535, \t rmse=1.3621835126146413,  \t RSE=1.0402473710201405, \n",
      " Validation: \t RMSE=1.597430374108719 \n"
     ]
    }
   ],
   "source": [
    "start = time.time()\n",
    "x =[]\n",
    "err =[]\n",
    "acc =[]\n",
    "mse_vals = []\n",
    "rmse_vals = []\n",
    "nrmse_vals = []\n",
    "RSE_vals =[]\n",
    "valid_rmse = []\n",
    "for epoch in range (num_epochs):\n",
    "    running_mse = 0\n",
    "    running_rmse = 0\n",
    "    running_nrmse = 0\n",
    "    running_RSE = 0\n",
    "    valid_running_rmse = 0\n",
    "    running_loss=0\n",
    "    num_batches=0\n",
    "    correct=0\n",
    "    data_size=(train_data.size()[0])\n",
    "    training_size = data_size\n",
    "    batch_size =20\n",
    "  \n",
    "    for count in range (0, training_size, batch_size):\n",
    "        optimizer.zero_grad()\n",
    "        minibatch_data = train_data[count:count+batch_size]\n",
    "        minibatch_label = train_label [count:count+batch_size]\n",
    "        \n",
    "        batch_size = (minibatch_data.size()[0])\n",
    "        inputs = minibatch_data.view(batch_size,4,seq_length)\n",
    "        scores = model(inputs)\n",
    "        loss = criterion(scores, minibatch_label)\n",
    "        #Add L2 regularization\n",
    "        l2_lambda = 0.000001\n",
    "        l2_norm = sum(p.pow(2.0).sum() for p in model.parameters())\n",
    "        loss = loss + l2_lambda * l2_norm\n",
    "        loss.backward()\n",
    "        optimizer.step()\n",
    "        running_loss+=loss.detach().item()\n",
    "        \n",
    "        \n",
    "        num_batches +=1\n",
    "        elapsed_time = time.time()-start\n",
    "        x.append(epoch)\n",
    "        mse, rmse, nrmse, RSE = evaluation_regression(minibatch_label, scores)\n",
    "        running_mse += mse\n",
    "        running_rmse +=rmse\n",
    "        running_nrmse += nrmse\n",
    "        running_RSE += RSE\n",
    "\n",
    "    total_mse = running_mse/num_batches\n",
    "    total_rmse = running_rmse/num_batches\n",
    "    total_nrmse = running_nrmse/num_batches\n",
    "    total_RSE = running_RSE/num_batches\n",
    "    total_vrmse = valid_running_rmse/num_batches\n",
    "    \n",
    "    \n",
    "    valid_scores = model (valid_data)\n",
    "    vmse, vrmse, vnrmse, vRSE = evaluation_regression(valid_label, valid_scores)\n",
    "    mse_vals.append (total_mse)\n",
    "    rmse_vals.append(total_rmse)\n",
    "    nrmse_vals.append(total_nrmse)\n",
    "    RSE_vals.append(total_RSE)\n",
    "    valid_rmse.append(vrmse)\n",
    "    total_loss = 100*(running_loss/num_batches)\n",
    "    lr_sched.step(vrmse)\n",
    "    if epoch %5 ==0 :\n",
    "        print ('\\n\\n Epoch', epoch)\n",
    "        print (f'Training: \\t loss={total_loss}, \\t rmse={total_rmse},  \\t RSE={total_RSE}, \\n Validation: \\t RMSE={vrmse} ' )\n",
    "\n"
   ]
  },
  {
   "cell_type": "code",
   "execution_count": null,
   "metadata": {},
   "outputs": [
    {
     "name": "stdout",
     "output_type": "stream",
     "text": [
      "torch.Size([2700])\n"
     ]
    },
    {
     "data": {
      "text/plain": [
       "<function matplotlib.pyplot.show(*args, **kw)>"
      ]
     },
     "execution_count": 42,
     "metadata": {},
     "output_type": "execute_result"
    },
    {
     "data": {
      "image/png": "[encoded data removed]",
      "text/plain": [
       "<Figure size 432x288 with 1 Axes>"
      ]
     },
     "metadata": {
      "needs_background": "light"
     },
     "output_type": "display_data"
    }
   ],
   "source": [
    "final_scores = model(train_data).squeeze()\n",
    "print (final_scores.size())\n",
    "array = final_scores.data.cpu().numpy()\n",
    "numpy.savetxt ('output.csv',array)\n",
    "plt.figure(100)\n",
    "#plt.plot (range(num_epochs), mse_vals, label= 'Train MSE')\n",
    "plt.plot (range(num_epochs), rmse_vals, label= 'Train RMSE')\n",
    "#plt.plot (range(num_epochs), RSE_vals, label='Train RSE')\n",
    "plt.plot (range(num_epochs), valid_rmse, 'g-', label='Valid RMSE' )\n",
    "plt.title(\"Prediction_performance_metrics.png\")\n",
    "plt.xlabel ('Epoch')\n",
    "plt.legend(loc='upper right')\n",
    "plt.savefig(\"Prediction_performamce.png\")\n",
    "plt.show\n",
    "#scatter_plot (train_label, final_scores, LV)"
   ]
  },
  {
   "cell_type": "code",
   "execution_count": null,
   "metadata": {},
   "outputs": [
    {
     "name": "stderr",
     "output_type": "stream",
     "text": [
      "/anaconda3/envs/theano/lib/python3.7/site-packages/ipykernel_launcher.py:1: DeprecationWarning: `np.float` is a deprecated alias for the builtin `float`. To silence this warning, use `float` by itself. Doing this will not modify any behavior and is safe. If you specifically wanted the numpy scalar type, use `np.float64` here.\n",
      "Deprecated in NumPy 1.20; for more details and guidance: https://numpy.org/devdocs/release/1.20.0-notes.html#deprecations\n",
      "  \"\"\"Entry point for launching an IPython kernel.\n",
      "/anaconda3/envs/theano/lib/python3.7/site-packages/ipykernel_launcher.py:4: DeprecationWarning: `np.float` is a deprecated alias for the builtin `float`. To silence this warning, use `float` by itself. Doing this will not modify any behavior and is safe. If you specifically wanted the numpy scalar type, use `np.float64` here.\n",
      "Deprecated in NumPy 1.20; for more details and guidance: https://numpy.org/devdocs/release/1.20.0-notes.html#deprecations\n",
      "  after removing the cwd from sys.path.\n",
      "No handles with labels found to put in legend.\n"
     ]
    },
    {
     "data": {
      "text/plain": [
       "<Figure size 432x288 with 0 Axes>"
      ]
     },
     "metadata": {},
     "output_type": "display_data"
    },
    {
     "data": {
      "image/png": "[encoded data removed]",
      "text/plain": [
       "<Figure size 432x288 with 1 Axes>"
      ]
     },
     "metadata": {
      "needs_background": "light"
     },
     "output_type": "display_data"
    }
   ],
   "source": [
    "\n",
    "A = np.array(train_label.detach().numpy(), dtype=np.float)\n",
    "A = A.flatten()\n",
    "final_scores.detach().numpy()\n",
    "B = np.array(final_scores.detach().numpy(), dtype=np.float)\n",
    "B = B.flatten()\n",
    "scatter_plot (A, B, LV)"
   ]
  },
  {
   "cell_type": "code",
   "execution_count": null,
   "metadata": {},
   "outputs": [
    {
     "name": "stderr",
     "output_type": "stream",
     "text": [
      "/anaconda3/envs/theano/lib/python3.7/site-packages/ipykernel_launcher.py:1: DeprecationWarning: `np.float` is a deprecated alias for the builtin `float`. To silence this warning, use `float` by itself. Doing this will not modify any behavior and is safe. If you specifically wanted the numpy scalar type, use `np.float64` here.\n",
      "Deprecated in NumPy 1.20; for more details and guidance: https://numpy.org/devdocs/release/1.20.0-notes.html#deprecations\n",
      "  \"\"\"Entry point for launching an IPython kernel.\n",
      "/anaconda3/envs/theano/lib/python3.7/site-packages/ipykernel_launcher.py:4: DeprecationWarning: `np.float` is a deprecated alias for the builtin `float`. To silence this warning, use `float` by itself. Doing this will not modify any behavior and is safe. If you specifically wanted the numpy scalar type, use `np.float64` here.\n",
      "Deprecated in NumPy 1.20; for more details and guidance: https://numpy.org/devdocs/release/1.20.0-notes.html#deprecations\n",
      "  after removing the cwd from sys.path.\n",
      "No handles with labels found to put in legend.\n"
     ]
    },
    {
     "data": {
      "text/plain": [
       "<Figure size 432x288 with 0 Axes>"
      ]
     },
     "metadata": {},
     "output_type": "display_data"
    },
    {
     "data": {
      "image/png": "[encoded data removed]",
      "text/plain": [
       "<Figure size 432x288 with 1 Axes>"
      ]
     },
     "metadata": {
      "needs_background": "light"
     },
     "output_type": "display_data"
    }
   ],
   "source": [
    "A = np.array(valid_label.detach().numpy(), dtype=np.float)\n",
    "A = A.flatten()\n",
    "final_scores.detach().numpy()\n",
    "B = np.array(valid_scores.detach().numpy(), dtype=np.float)\n",
    "B = B.flatten()\n",
    "scatter_plot (A, B, LV)"
   ]
  },
  {
   "cell_type": "code",
   "execution_count": null,
   "metadata": {},
   "outputs": [],
   "source": [
    "ALASTOR_model_PATH = f\"ALASTOR_model_{LV}_1.0.pt\"\n",
    "torch.save(model.state_dict(),ALASTOR_model_PATH)"
   ]
  },
  {
   "cell_type": "code",
   "execution_count": null,
   "metadata": {},
   "outputs": [
    {
     "name": "stdout",
     "output_type": "stream",
     "text": [
      "<class 'torch.Tensor'>\n",
      "torch.Size([1350, 4, 2000])\n",
      "torch.Size([900, 4, 2000])\n"
     ]
    }
   ],
   "source": [
    "#train_data1, test_data, train_label1, test_label = train_test_split(data_X0, data_Y0, test_size=0.1, random_state=42)\n",
    "#train_data, valid_data, train_label, valid_label = train_test_split(train_data1, train_label1, test_size=0.1, random_state=42)\n",
    "#val_train_data, rest_data, val_train_label, rest_label = train_test_split(train_data, train_label, test_size=0.3, random_state=42)\n",
    "print (type(train_data))\n",
    "print (train_data.size())\n",
    "print (valid_data.size())\n",
    "# Final_Test_data = test_data + valid_data + val_train_data\n",
    "# Final_Test_Label = test_label + valid_label + val_train_label"
   ]
  },
  {
   "cell_type": "code",
   "execution_count": null,
   "metadata": {},
   "outputs": [
    {
     "name": "stdout",
     "output_type": "stream",
     "text": [
      "torch.Size([2095, 4, 2000])\n",
      "torch.Size([2095, 1])\n"
     ]
    }
   ],
   "source": [
    "Final_Test_data = torch.cat((test_data , valid_data , val_train_data))\n",
    "Final_Test_Label = torch.cat ((test_label , valid_label , val_train_label))\n",
    "print (Final_Test_data.size())\n",
    "print (Final_Test_Label.size())\n"
   ]
  },
  {
   "cell_type": "code",
   "execution_count": null,
   "metadata": {},
   "outputs": [],
   "source": [
    "Final_Test_scores = model(Final_Test_data).squeeze()"
   ]
  },
  {
   "cell_type": "markdown",
   "metadata": {},
   "source": []
  },
  {
   "cell_type": "code",
   "execution_count": null,
   "metadata": {},
   "outputs": [
    {
     "name": "stderr",
     "output_type": "stream",
     "text": [
      "/anaconda3/envs/theano/lib/python3.7/site-packages/ipykernel_launcher.py:1: DeprecationWarning: `np.float` is a deprecated alias for the builtin `float`. To silence this warning, use `float` by itself. Doing this will not modify any behavior and is safe. If you specifically wanted the numpy scalar type, use `np.float64` here.\n",
      "Deprecated in NumPy 1.20; for more details and guidance: https://numpy.org/devdocs/release/1.20.0-notes.html#deprecations\n",
      "  \"\"\"Entry point for launching an IPython kernel.\n",
      "/anaconda3/envs/theano/lib/python3.7/site-packages/ipykernel_launcher.py:4: DeprecationWarning: `np.float` is a deprecated alias for the builtin `float`. To silence this warning, use `float` by itself. Doing this will not modify any behavior and is safe. If you specifically wanted the numpy scalar type, use `np.float64` here.\n",
      "Deprecated in NumPy 1.20; for more details and guidance: https://numpy.org/devdocs/release/1.20.0-notes.html#deprecations\n",
      "  after removing the cwd from sys.path.\n",
      "No handles with labels found to put in legend.\n"
     ]
    },
    {
     "data": {
      "text/plain": [
       "<Figure size 432x288 with 0 Axes>"
      ]
     },
     "metadata": {},
     "output_type": "display_data"
    },
    {
     "data": {
      "image/png": "[encoded data removed]",
      "text/plain": [
       "<Figure size 432x288 with 1 Axes>"
      ]
     },
     "metadata": {
      "needs_background": "light"
     },
     "output_type": "display_data"
    }
   ],
   "source": [
    "A = np.array(Final_Test_Label.detach().numpy(), dtype=np.float)\n",
    "A = A.flatten()\n",
    "#Final_Test_scores.detach().numpy()\n",
    "B = np.array(Final_Test_scores.detach().numpy(), dtype=np.float)\n",
    "B = B.flatten()\n",
    "scatter_plot (A, B, LV)"
   ]
  }
 ],
 "metadata": {
  "kernelspec": {
   "display_name": "theano",
   "language": "python",
   "name": "python3"
  },
  "language_info": {
   "codemirror_mode": {
    "name": "ipython",
    "version": 3
   },
   "file_extension": ".py",
   "mimetype": "text/x-python",
   "name": "python",
   "nbconvert_exporter": "python",
   "pygments_lexer": "ipython3",
   "version": "3.7.10"
  },
  "orig_nbformat": 4,
  "vscode": {
   "interpreter": {
    "hash": "9c7d690efe0f14f7d84780569feed482fa05f4edcf2900ad1dd297eb3490dbe6"
   }
  }
 },
 "nbformat": 4,
 "nbformat_minor": 2
}
